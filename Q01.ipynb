{
 "cells": [
  {
   "cell_type": "code",
   "execution_count": 14,
   "metadata": {},
   "outputs": [],
   "source": [
    "import os\n",
    "import cv2\n",
    "import numpy as np\n",
    "import warnings\n",
    "\n",
    "from tensorflow.keras.preprocessing.image import ImageDataGenerator\n",
    "from tensorflow.keras.preprocessing.image import img_to_array\n",
    "from tensorflow.keras.preprocessing.image import load_img\n",
    "\n",
    "import matplotlib.pyplot as plt\n",
    "from sklearn.datasets import fetch_openml\n",
    "from sklearn.exceptions import ConvergenceWarning\n",
    "from sklearn.model_selection import train_test_split #Separar dados de treino e teste\n",
    "from sklearn.utils import shuffle #Embaralhar dados\n",
    "from sklearn.neural_network import MLPClassifier\n",
    "from sklearn.linear_model import LogisticRegression\n",
    "from sklearn.metrics import roc_auc_score, roc_curve,classification_report, accuracy_score, confusion_matrix, auc"
   ]
  },
  {
   "cell_type": "code",
   "execution_count": 15,
   "metadata": {},
   "outputs": [],
   "source": [
    "def dataAugmentation(path, classe):\n",
    "    image = load_img(path)\n",
    "    image = img_to_array(image)\n",
    "    image = np.expand_dims(image, axis=0)\n",
    "    # contruindo o gerador de imagem para data augmentation\n",
    "    aug = ImageDataGenerator(\n",
    "        rotation_range=30,\n",
    "        zoom_range=0.15,\n",
    "        #width_shift_range=0.2,\n",
    "        #height_shift_range=0.2,\n",
    "        shear_range=0.15,\n",
    "        horizontal_flip=True,\n",
    "        vertical_flip=True,\n",
    "        fill_mode=\"nearest\")\n",
    "    \n",
    "    total = 0\n",
    "    saveDir = ''\n",
    "    #local de destino das imagens\n",
    "    if(classe == 0):\n",
    "        saveDir = 'C:/Users/David/PycharmProjects/CNN-Pterygium/Aug/NewG0/'\n",
    "    elif(classe == 1):\n",
    "        saveDir = 'C:/Users/David/PycharmProjects/CNN-Pterygium/Aug/NewG1/'\n",
    "    elif(classe == 2):\n",
    "        saveDir = 'C:/Users/David/PycharmProjects/CNN-Pterygium/Aug/NewG2/'\n",
    "    elif(classe == 3):\n",
    "        saveDir = 'C:/Users/David/PycharmProjects/CNN-Pterygium/Aug/NewG3/'\n",
    "    elif(classe == 4):\n",
    "        saveDir = 'C:/Users/David/PycharmProjects/CNN-Pterygium/Aug/NewG4/'\n",
    "        \n",
    "    imageGen = aug.flow(image, batch_size=1, save_to_dir=saveDir,\n",
    "            save_prefix=\"image\", save_format=\"jpg\")\n",
    "    # loop que faz o controle do número de imagens a serem geradas (no caso 100)\n",
    "    for image in imageGen:\n",
    "        total += 1\n",
    "        if total == 25:\n",
    "            break"
   ]
  },
  {
   "cell_type": "code",
   "execution_count": 16,
   "metadata": {},
   "outputs": [],
   "source": [
    "path = 'C:/Users/David/PycharmProjects/CNN-Pterygium/GrausPt/'\n",
    "\n",
    "for caminho, d, file in os.walk(path):\n",
    "    for filename in file:\n",
    "        img = cv2.imread(os.path.join(caminho,filename))\n",
    "\n",
    "        if caminho == 'C:/Users/David/PycharmProjects/CNN-Pterygium/GrausPt/g0':\n",
    "            cv2.imwrite('C:/Users/David/PycharmProjects/CNN-Pterygium/Aug/NewG0/'+filename, img)\n",
    "            dataAugmentation(os.path.join(caminho,filename), 0)\n",
    "       \n",
    "        elif caminho == 'C:/Users/David/PycharmProjects/CNN-Pterygium/GrausPt/g1':\n",
    "            cv2.imwrite('C:/Users/David/PycharmProjects/CNN-Pterygium/Aug/NewG1/'+filename, img)\n",
    "            dataAugmentation(os.path.join(caminho,filename), 1)\n",
    "          \n",
    "        elif caminho == 'C:/Users/David/PycharmProjects/CNN-Pterygium/GrausPt/g2':\n",
    "            cv2.imwrite('C:/Users/David/PycharmProjects/CNN-Pterygium/Aug/NewG2/'+filename, img)\n",
    "            dataAugmentation(os.path.join(caminho,filename), 2)\n",
    "            \n",
    "        elif caminho == 'C:/Users/David/PycharmProjects/CNN-Pterygium/GrausPt/g3':\n",
    "            cv2.imwrite('C:/Users/David/PycharmProjects/CNN-Pterygium/Aug/NewG3/'+filename, img)\n",
    "            dataAugmentation(os.path.join(caminho,filename), 3)\n",
    "        \n",
    "        elif caminho == 'C:/Users/David/PycharmProjects/CNN-Pterygium/GrausPt/g4':\n",
    "            cv2.imwrite('C:/Users/David/PycharmProjects/CNN-Pterygium/Aug/NewG4/'+filename, img)\n",
    "            dataAugmentation(os.path.join(caminho,filename), 4)"
   ]
  },
  {
   "cell_type": "code",
   "execution_count": 17,
   "metadata": {},
   "outputs": [],
   "source": [
    "path = os.getcwd()+'/Aug/'\n",
    "data_set = []\n",
    "saidas = []\n",
    "        \n",
    "for caminho, d, file in os.walk(path):\n",
    "    for filename in file:\n",
    "        \n",
    "        img = cv2.imread(os.path.join(caminho,filename))\n",
    "        \n",
    "#         img = cv2.cvtColor(img, cv2.COLOR_BGR2GRAY) #Deixa a imagem com tons de cinza\n",
    "        #equalized_image = cv2.equalizeHist(gray) #Aumentar o contraste da imagem\n",
    "        img = np.array(cv2.resize(img, (128,128), interpolation = cv2.INTER_AREA))\n",
    "        data_set.append(img.reshape(-1))\n",
    "        \n",
    "        if caminho == os.getcwd()+'/Aug/NewG0':\n",
    "            saidas.append(0)\n",
    "        elif caminho == os.getcwd()+'/Aug/NewG1':\n",
    "            saidas.append(1)\n",
    "        elif caminho == os.getcwd()+'/Aug/NewG2':\n",
    "            saidas.append(2)\n",
    "        elif caminho == os.getcwd()+'/Aug/NewG3':\n",
    "            saidas.append(3)\n",
    "        elif caminho == os.getcwd()+'/Aug/NewG4':\n",
    "            saidas.append(4)"
   ]
  },
  {
   "cell_type": "code",
   "execution_count": 18,
   "metadata": {},
   "outputs": [],
   "source": [
    "X = np.array(data_set)\n",
    "y = np.array(saidas)\n",
    "\n",
    "X = np.array(X) / 255.\n",
    "\n",
    "X, y= shuffle(X, y) #embaralha os dados\n",
    "#separa os dados em treino e teste com porcentagen de 80% para treino\n",
    "X_train, X_test, y_train, y_test = train_test_split(X, y, train_size=0.8, random_state=42)"
   ]
  },
  {
   "cell_type": "code",
   "execution_count": 19,
   "metadata": {},
   "outputs": [
    {
     "data": {
      "text/plain": [
       "((7187, 49152), (1797, 49152))"
      ]
     },
     "execution_count": 19,
     "metadata": {},
     "output_type": "execute_result"
    }
   ],
   "source": [
    "X_train.shape, X_test.shape"
   ]
  },
  {
   "cell_type": "code",
   "execution_count": 20,
   "metadata": {},
   "outputs": [
    {
     "name": "stdout",
     "output_type": "stream",
     "text": [
      "Automatically created module for IPython interactive environment\n",
      "Iteration 1, loss = 1.98801168\n",
      "Iteration 2, loss = 1.37670880\n",
      "Iteration 3, loss = 1.37419363\n",
      "Iteration 4, loss = 1.36625729\n",
      "Iteration 5, loss = 1.36037146\n",
      "Iteration 6, loss = 1.35930090\n",
      "Iteration 7, loss = 1.35851779\n",
      "Iteration 8, loss = 1.35431382\n",
      "Iteration 9, loss = 1.35418253\n",
      "Iteration 10, loss = 1.35081489\n",
      "Iteration 11, loss = 1.35211465\n",
      "Iteration 12, loss = 1.34997002\n",
      "Iteration 13, loss = 1.34808157\n",
      "Iteration 14, loss = 1.34722984\n",
      "Iteration 15, loss = 1.34886303\n",
      "Iteration 16, loss = 1.34622381\n",
      "Iteration 17, loss = 1.34557855\n",
      "Iteration 18, loss = 1.34432292\n",
      "Iteration 19, loss = 1.34373352\n",
      "Iteration 20, loss = 1.34288815\n",
      "Iteration 21, loss = 1.34205032\n",
      "Iteration 22, loss = 1.34230050\n",
      "Iteration 23, loss = 1.34192446\n",
      "Iteration 24, loss = 1.34227566\n",
      "Iteration 25, loss = 1.34198663\n",
      "Iteration 26, loss = 1.34232282\n",
      "Iteration 27, loss = 1.34152386\n",
      "Iteration 28, loss = 1.34148338\n",
      "Iteration 29, loss = 1.34141375\n",
      "Iteration 30, loss = 1.34018242\n",
      "Iteration 31, loss = 1.33966739\n",
      "Iteration 32, loss = 1.34038182\n",
      "Iteration 33, loss = 1.34277543\n",
      "Iteration 34, loss = 1.34185994\n",
      "Iteration 35, loss = 1.34129816\n",
      "Iteration 36, loss = 1.34011369\n",
      "Iteration 37, loss = 1.34003984\n",
      "Iteration 38, loss = 1.34152633\n",
      "Iteration 39, loss = 1.34198540\n",
      "Iteration 40, loss = 1.33872831\n",
      "Iteration 41, loss = 1.34074990\n",
      "Iteration 42, loss = 1.34074623\n",
      "Iteration 43, loss = 1.34071347\n",
      "Iteration 44, loss = 1.34088465\n",
      "Iteration 45, loss = 1.34082295\n",
      "Iteration 46, loss = 1.34019846\n",
      "Iteration 47, loss = 1.34048990\n",
      "Iteration 48, loss = 1.34008962\n",
      "Iteration 49, loss = 1.34219942\n",
      "Iteration 50, loss = 1.34312121\n",
      "Iteration 51, loss = 1.34065179\n",
      "Training loss did not improve more than tol=0.000100 for 10 consecutive epochs. Stopping.\n",
      "Training set score: 0.472242\n",
      "Test set score: 0.470785\n"
     ]
    }
   ],
   "source": [
    "print(__doc__)\n",
    "X = np.array(X) / 255.\n",
    "\n",
    "X, y= shuffle(X, y) #embaralha os dados\n",
    "#separa os dados em treino e teste com porcentagen de 80% para treino\n",
    "X_train, X_test, y_train, y_test = train_test_split(X, y, train_size=0.8, random_state=42) \n",
    "\n",
    "mlp = MLPClassifier(hidden_layer_sizes=(16,32,32,64), max_iter=60, alpha=1e-4, activation='relu',\n",
    "                    solver='adam', verbose=10, random_state=1,\n",
    "                    learning_rate_init=.1)\n",
    "\n",
    "with warnings.catch_warnings():\n",
    "    warnings.filterwarnings(\"ignore\", category=ConvergenceWarning,\n",
    "                            module=\"sklearn\")\n",
    "    mlp.fit(X_train, y_train)\n",
    "\n",
    "print(\"Training set score: %f\" % mlp.score(X_train, y_train))\n",
    "print(\"Test set score: %f\" % mlp.score(X_test, y_test))"
   ]
  },
  {
   "cell_type": "code",
   "execution_count": null,
   "metadata": {},
   "outputs": [],
   "source": []
  },
  {
   "cell_type": "code",
   "execution_count": null,
   "metadata": {},
   "outputs": [],
   "source": []
  },
  {
   "cell_type": "code",
   "execution_count": null,
   "metadata": {},
   "outputs": [],
   "source": []
  },
  {
   "cell_type": "code",
   "execution_count": null,
   "metadata": {},
   "outputs": [],
   "source": []
  },
  {
   "cell_type": "code",
   "execution_count": null,
   "metadata": {},
   "outputs": [],
   "source": []
  },
  {
   "cell_type": "code",
   "execution_count": null,
   "metadata": {},
   "outputs": [],
   "source": []
  },
  {
   "cell_type": "code",
   "execution_count": 7,
   "metadata": {},
   "outputs": [
    {
     "name": "stderr",
     "output_type": "stream",
     "text": [
      "C:\\Anaconda3\\lib\\site-packages\\sklearn\\linear_model\\logistic.py:469: FutureWarning: Default multi_class will be changed to 'auto' in 0.22. Specify the multi_class option to silence this warning.\n",
      "  \"this warning.\", FutureWarning)\n",
      "C:\\Anaconda3\\lib\\site-packages\\sklearn\\linear_model\\sag.py:337: ConvergenceWarning: The max_iter was reached which means the coef_ did not converge\n",
      "  \"the coef_ did not converge\", ConvergenceWarning)\n"
     ]
    },
    {
     "data": {
      "text/plain": [
       "LogisticRegression(C=1.0, class_weight=None, dual=False, fit_intercept=True,\n",
       "                   intercept_scaling=1, l1_ratio=None, max_iter=100,\n",
       "                   multi_class='warn', n_jobs=None, penalty='l2',\n",
       "                   random_state=0, solver='sag', tol=0.0001, verbose=0,\n",
       "                   warm_start=False)"
      ]
     },
     "execution_count": 7,
     "metadata": {},
     "output_type": "execute_result"
    }
   ],
   "source": [
    "clf = LogisticRegression(random_state=0, solver='sag', max_iter=100)\n",
    "clf.fit(X_train, y_train)"
   ]
  },
  {
   "cell_type": "code",
   "execution_count": 8,
   "metadata": {},
   "outputs": [
    {
     "name": "stdout",
     "output_type": "stream",
     "text": [
      "              precision    recall  f1-score   support\n",
      "\n",
      "           0       0.97      0.91      0.94       553\n",
      "           1       0.95      0.74      0.83       399\n",
      "           2       0.88      0.65      0.75       781\n",
      "           3       0.80      0.94      0.86      3370\n",
      "           4       0.83      0.72      0.77      1871\n",
      "\n",
      "    accuracy                           0.83      6974\n",
      "   macro avg       0.89      0.79      0.83      6974\n",
      "weighted avg       0.84      0.83      0.83      6974\n",
      "\n"
     ]
    }
   ],
   "source": [
    "print(classification_report(y_train, clf.predict(X_train)))"
   ]
  },
  {
   "cell_type": "code",
   "execution_count": 9,
   "metadata": {},
   "outputs": [
    {
     "name": "stdout",
     "output_type": "stream",
     "text": [
      "              precision    recall  f1-score   support\n",
      "\n",
      "           0       0.84      0.48      0.61       156\n",
      "           1       0.33      0.25      0.28       104\n",
      "           2       0.38      0.20      0.26       211\n",
      "           3       0.59      0.75      0.66       821\n",
      "           4       0.44      0.40      0.42       452\n",
      "\n",
      "    accuracy                           0.54      1744\n",
      "   macro avg       0.51      0.42      0.45      1744\n",
      "weighted avg       0.53      0.54      0.52      1744\n",
      "\n"
     ]
    }
   ],
   "source": [
    "print(classification_report(y_test, clf.predict(X_test)))"
   ]
  },
  {
   "cell_type": "code",
   "execution_count": 10,
   "metadata": {},
   "outputs": [],
   "source": [
    "a = clf.predict_proba(X_test[13:14, :])"
   ]
  },
  {
   "cell_type": "code",
   "execution_count": 11,
   "metadata": {},
   "outputs": [
    {
     "name": "stdout",
     "output_type": "stream",
     "text": [
      "0.23\n",
      "38.35\n",
      "5.0\n",
      "53.83\n",
      "2.59\n"
     ]
    }
   ],
   "source": [
    "for i in range(5):\n",
    "    print(round(a[:,i][0]*100, 2))"
   ]
  },
  {
   "cell_type": "code",
   "execution_count": 17,
   "metadata": {},
   "outputs": [
    {
     "data": {
      "text/plain": [
       "<matplotlib.image.AxesImage at 0x28361748748>"
      ]
     },
     "execution_count": 17,
     "metadata": {},
     "output_type": "execute_result"
    },
    {
     "data": {
      "image/png": "[encoded data removed]",
      "text/plain": [
       "<Figure size 432x288 with 1 Axes>"
      ]
     },
     "metadata": {
      "needs_background": "light"
     },
     "output_type": "display_data"
    }
   ],
   "source": [
    "plt.imshow(X_test[13:14,:].reshape(128,128,3))"
   ]
  },
  {
   "cell_type": "code",
   "execution_count": null,
   "metadata": {},
   "outputs": [],
   "source": []
  }
 ],
 "metadata": {
  "kernelspec": {
   "display_name": "Python 3",
   "language": "python",
   "name": "python3"
  },
  "language_info": {
   "codemirror_mode": {
    "name": "ipython",
    "version": 3
   },
   "file_extension": ".py",
   "mimetype": "text/x-python",
   "name": "python",
   "nbconvert_exporter": "python",
   "pygments_lexer": "ipython3",
   "version": "3.7.4"
  }
 },
 "nbformat": 4,
 "nbformat_minor": 2
}
